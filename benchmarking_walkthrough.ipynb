{
 "cells": [
  {
   "cell_type": "markdown",
   "metadata": {},
   "source": [
    "# Benchmarking with sktime"
   ]
  },
  {
   "cell_type": "code",
   "execution_count": 1,
   "metadata": {},
   "outputs": [],
   "source": [
    "%load_ext autoreload\n",
    "%autoreload 2"
   ]
  },
  {
   "cell_type": "code",
   "execution_count": 2,
   "metadata": {},
   "outputs": [],
   "source": [
    "from sktime.benchmarking import Orchestrator\n",
    "from sktime.benchmarking import Data\n",
    "from sktime.benchmarking import Results\n",
    "from sktime.benchmarking import Evaluator\n",
    "from sktime.benchmarking.metrics import ScoreAccuracy\n",
    "\n",
    "from sktime.highlevel import TSCTask \n",
    "from sktime.highlevel import TSCStrategy\n",
    "\n",
    "from sktime.datasets import load_gunpoint\n",
    "from sktime.datasets import load_arrow_head\n",
    "\n",
    "from sktime.classifiers.ensemble import TimeSeriesForestClassifier\n",
    "from sktime.classifiers.time_series_neighbors import KNeighborsTimeSeriesClassifier\n",
    "\n",
    "import os\n",
    "import pandas as pd\n",
    "import numpy as np"
   ]
  },
  {
   "cell_type": "markdown",
   "metadata": {},
   "source": [
    "### Set up orchestration\n",
    "1. Initialise `Data` object which encapsulates all the necessary information about the data, including whether there exist predefined train and test folds, and iteratively loads the data during orchestration\n",
    "2. Specify the tasks of interest, one for each dataset with the corresponding name of the target variable to be predicted\n",
    "3. Specify the prediction strategies to evaluate \n",
    "4. Specify where to save results"
   ]
  },
  {
   "cell_type": "code",
   "execution_count": 3,
   "metadata": {},
   "outputs": [
    {
     "name": "stdout",
     "output_type": "stream",
     "text": [
      "Datasets:  ['ItalyPowerDemand', 'ArrowHead', 'GunPoint']\n"
     ]
    }
   ],
   "source": [
    "datadir = 'sktime/datasets/data/'\n",
    "datasets = os.listdir(datadir)\n",
    "print('Datasets: ', datasets)\n",
    "n_datasets = len(datasets)\n",
    "data = Data(datadir=datadir, \n",
    "            names=datasets, \n",
    "            train_test_exists=True)"
   ]
  },
  {
   "cell_type": "code",
   "execution_count": 4,
   "metadata": {},
   "outputs": [],
   "source": [
    "# in this example, the target name is the same for all datasets\n",
    "tasks = [TSCTask(target='class_val') for _ in range(n_datasets)]"
   ]
  },
  {
   "cell_type": "code",
   "execution_count": 5,
   "metadata": {},
   "outputs": [],
   "source": [
    "strategies = [\n",
    "    ('tsf10', TSCStrategy(TimeSeriesForestClassifier(n_estimators=10))),\n",
    "    ('tsf20', TSCStrategy(TimeSeriesForestClassifier(n_estimators=20)))\n",
    "]"
   ]
  },
  {
   "cell_type": "code",
   "execution_count": 6,
   "metadata": {},
   "outputs": [],
   "source": [
    "results_dir = '../sktime-benchmarking-results/'"
   ]
  },
  {
   "cell_type": "markdown",
   "metadata": {},
   "source": [
    "### Run benchmarking"
   ]
  },
  {
   "cell_type": "code",
   "execution_count": 11,
   "metadata": {},
   "outputs": [
    {
     "name": "stdout",
     "output_type": "stream",
     "text": [
      "Running strategies on ItalyPowerDemand\n",
      "Running strategies on ArrowHead\n",
      "Running strategies on GunPoint\n"
     ]
    }
   ],
   "source": [
    "orchestrator = Orchestrator(data=data,\n",
    "                            tasks=tasks, \n",
    "                            strategies=strategies,\n",
    "                            cv='presplit', \n",
    "                            results_dir=results_dir)\n",
    "results = orchestrator.run()"
   ]
  },
  {
   "cell_type": "code",
   "execution_count": 8,
   "metadata": {},
   "outputs": [
    {
     "data": {
      "text/plain": [
       "{'results_dir': '../sktime-benchmarking-results/',\n",
       " 'dataset_names': ['ItalyPowerDemand', 'ArrowHead', 'GunPoint'],\n",
       " 'strategy_names': ('tsf10', 'tsf20')}"
      ]
     },
     "execution_count": 8,
     "metadata": {},
     "output_type": "execute_result"
    }
   ],
   "source": [
    "results.__dict__"
   ]
  },
  {
   "cell_type": "code",
   "execution_count": 81,
   "metadata": {},
   "outputs": [
    {
     "data": {
      "text/plain": [
       "['test0.csv']"
      ]
     },
     "execution_count": 81,
     "metadata": {},
     "output_type": "execute_result"
    }
   ],
   "source": [
    "os.listdir(os.path.join(results_dir, 'tsf10', 'ItalyPowerDemand'))"
   ]
  },
  {
   "cell_type": "code",
   "execution_count": null,
   "metadata": {},
   "outputs": [],
   "source": []
  }
 ],
 "metadata": {
  "kernelspec": {
   "display_name": "Python 3",
   "language": "python",
   "name": "python3"
  },
  "language_info": {
   "codemirror_mode": {
    "name": "ipython",
    "version": 3
   },
   "file_extension": ".py",
   "mimetype": "text/x-python",
   "name": "python",
   "nbconvert_exporter": "python",
   "pygments_lexer": "ipython3",
   "version": "3.7.3"
  }
 },
 "nbformat": 4,
 "nbformat_minor": 2
}
