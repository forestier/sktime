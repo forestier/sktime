{
 "cells": [
  {
   "cell_type": "markdown",
   "metadata": {},
   "source": [
    "# Benchmarking with sktime"
   ]
  },
  {
   "cell_type": "code",
   "execution_count": 1,
   "metadata": {},
   "outputs": [],
   "source": [
    "from sktime.benchmarking import Orchestrator\n",
    "from sktime.benchmarking import Data\n",
    "from sktime.benchmarking import Results\n",
    "from sktime.benchmarking import Evaluator\n",
    "from sktime.highlevel import TSCTask \n",
    "from sktime.highlevel import TSCStrategy\n",
    "\n",
    "from sktime.classifiers.ensemble import TimeSeriesForestClassifier\n",
    "\n",
    "from sktime.model_selection import PresplitFilesCV\n",
    "\n",
    "import os\n",
    "import pandas as pd\n",
    "import numpy as np"
   ]
  },
  {
   "cell_type": "markdown",
   "metadata": {},
   "source": [
    "### Set up orchestration\n",
    "1. Initialise `Data` object which encapsulates all the necessary information about the data, including whether there exist predefined train and test folds, and iteratively loads the data during orchestration\n",
    "2. Specify the tasks of interest, one for each dataset with the corresponding name of the target variable to be predicted\n",
    "3. Specify the prediction strategies to evaluate \n",
    "4. Specify where to save results"
   ]
  },
  {
   "cell_type": "code",
   "execution_count": 9,
   "metadata": {},
   "outputs": [
    {
     "name": "stdout",
     "output_type": "stream",
     "text": [
      "Datasets:  ['ItalyPowerDemand', 'ArrowHead', 'GunPoint']\n"
     ]
    }
   ],
   "source": [
    "data_dir = 'sktime/datasets/data/'\n",
    "results_dir = '../sktime-benchmarking-results/'\n",
    "datasets = os.listdir(data_dir)\n",
    "print('Datasets: ', datasets)\n",
    "n_datasets = len(datasets)\n",
    "\n",
    "# in this example, the target name is the same for all datasets\n",
    "tasks = [TSCTask(target='class_val') for _ in range(n_datasets)]\n",
    "\n",
    "# data input, with flag to specify if presplit train/test files exist\n",
    "data = Data(data_dir=data_dir, names=datasets, train_test_exists=True)\n",
    "\n",
    "# results output\n",
    "results = Results(results_dir=results_dir)\n",
    "\n",
    "# cv using the presplit files, any other sklearn CV object also works \n",
    "cv = PresplitFilesCV()\n",
    "\n",
    "# specify strategies as (name-strategy) tuples \n",
    "strategies = [\n",
    "    ('tsf10', TSCStrategy(TimeSeriesForestClassifier(n_estimators=10))),\n",
    "    ('tsf20', TSCStrategy(TimeSeriesForestClassifier(n_estimators=20)))\n",
    "]"
   ]
  },
  {
   "cell_type": "code",
   "execution_count": 12,
   "metadata": {},
   "outputs": [
    {
     "data": {
      "text/plain": [
       "{'results_dir': '../sktime-benchmarking-results/',\n",
       " 'dataset_names': [],\n",
       " 'strategy_names': []}"
      ]
     },
     "execution_count": 12,
     "metadata": {},
     "output_type": "execute_result"
    }
   ],
   "source": [
    "results.__dict__"
   ]
  },
  {
   "cell_type": "markdown",
   "metadata": {},
   "source": [
    "### Run benchmarking"
   ]
  },
  {
   "cell_type": "code",
   "execution_count": 14,
   "metadata": {},
   "outputs": [
    {
     "name": "stdout",
     "output_type": "stream",
     "text": [
      "Running strategies on ItalyPowerDemand\n",
      "Running strategies on ArrowHead\n",
      "Running strategies on GunPoint\n"
     ]
    }
   ],
   "source": [
    "# initialise orchestrator\n",
    "orchestrator = Orchestrator(data=data, results=results, tasks=tasks, strategies=strategies, cv=cv)\n",
    "\n",
    "# run orchestrator\n",
    "results = orchestrator.fit_predict(save_training_predictions=True, save_fitted_strategies=True)"
   ]
  },
  {
   "cell_type": "code",
   "execution_count": 15,
   "metadata": {},
   "outputs": [
    {
     "data": {
      "text/plain": [
       "{'results_dir': '../sktime-benchmarking-results/',\n",
       " 'dataset_names': ['tsf10', 'tsf20'],\n",
       " 'strategy_names': ['ItalyPowerDemand', 'ArrowHead', 'GunPoint']}"
      ]
     },
     "execution_count": 15,
     "metadata": {},
     "output_type": "execute_result"
    }
   ],
   "source": [
    "# check that results object is updated during orchestration\n",
    "results.__dict__"
   ]
  },
  {
   "cell_type": "code",
   "execution_count": 16,
   "metadata": {},
   "outputs": [
    {
     "data": {
      "text/plain": [
       "['tsf100.joblib', 'train0.csv', 'test0.csv']"
      ]
     },
     "execution_count": 16,
     "metadata": {},
     "output_type": "execute_result"
    }
   ],
   "source": [
    "# check results\n",
    "os.listdir(os.path.join(results_dir, 'tsf10', 'ItalyPowerDemand'))"
   ]
  },
  {
   "cell_type": "code",
   "execution_count": 18,
   "metadata": {},
   "outputs": [
    {
     "data": {
      "text/html": [
       "<div>\n",
       "<style scoped>\n",
       "    .dataframe tbody tr th:only-of-type {\n",
       "        vertical-align: middle;\n",
       "    }\n",
       "\n",
       "    .dataframe tbody tr th {\n",
       "        vertical-align: top;\n",
       "    }\n",
       "\n",
       "    .dataframe thead th {\n",
       "        text-align: right;\n",
       "    }\n",
       "</style>\n",
       "<table border=\"1\" class=\"dataframe\">\n",
       "  <thead>\n",
       "    <tr style=\"text-align: right;\">\n",
       "      <th></th>\n",
       "      <th>index</th>\n",
       "      <th>y_true</th>\n",
       "      <th>y_pred</th>\n",
       "    </tr>\n",
       "  </thead>\n",
       "  <tbody>\n",
       "    <tr>\n",
       "      <th>0</th>\n",
       "      <td>67</td>\n",
       "      <td>2</td>\n",
       "      <td>2</td>\n",
       "    </tr>\n",
       "    <tr>\n",
       "      <th>1</th>\n",
       "      <td>68</td>\n",
       "      <td>2</td>\n",
       "      <td>2</td>\n",
       "    </tr>\n",
       "    <tr>\n",
       "      <th>2</th>\n",
       "      <td>69</td>\n",
       "      <td>2</td>\n",
       "      <td>2</td>\n",
       "    </tr>\n",
       "    <tr>\n",
       "      <th>3</th>\n",
       "      <td>70</td>\n",
       "      <td>2</td>\n",
       "      <td>1</td>\n",
       "    </tr>\n",
       "    <tr>\n",
       "      <th>4</th>\n",
       "      <td>71</td>\n",
       "      <td>2</td>\n",
       "      <td>2</td>\n",
       "    </tr>\n",
       "  </tbody>\n",
       "</table>\n",
       "</div>"
      ],
      "text/plain": [
       "   index  y_true  y_pred\n",
       "0     67       2       2\n",
       "1     68       2       2\n",
       "2     69       2       2\n",
       "3     70       2       1\n",
       "4     71       2       2"
      ]
     },
     "execution_count": 18,
     "metadata": {},
     "output_type": "execute_result"
    }
   ],
   "source": [
    "# simple csv format, but easily extendible to other formats\n",
    "pd.read_csv(os.path.join(results_dir, 'tsf10', 'ItalyPowerDemand') + '/test0.csv').head()"
   ]
  }
 ],
 "metadata": {
  "kernelspec": {
   "display_name": "Python 3",
   "language": "python",
   "name": "python3"
  },
  "language_info": {
   "codemirror_mode": {
    "name": "ipython",
    "version": 3
   },
   "file_extension": ".py",
   "mimetype": "text/x-python",
   "name": "python",
   "nbconvert_exporter": "python",
   "pygments_lexer": "ipython3",
   "version": "3.7.3"
  }
 },
 "nbformat": 4,
 "nbformat_minor": 2
}
